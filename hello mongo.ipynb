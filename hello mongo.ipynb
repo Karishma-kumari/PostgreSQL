{
 "cells": [
  {
   "cell_type": "code",
   "execution_count": 1,
   "metadata": {},
   "outputs": [],
   "source": [
    "import pymongo"
   ]
  },
  {
   "cell_type": "markdown",
   "metadata": {},
   "source": [
    "## 01 Create a Connection to Mongodb "
   ]
  },
  {
   "cell_type": "code",
   "execution_count": 7,
   "metadata": {},
   "outputs": [],
   "source": [
    "## create a connection #\n",
    "myclient = pymongo.MongoClient()\n",
    "# create a database #\n",
    "mydb = myclient['mydatabase']"
   ]
  },
  {
   "cell_type": "markdown",
   "metadata": {},
   "source": [
    "## 02 Create a Collection "
   ]
  },
  {
   "cell_type": "code",
   "execution_count": 8,
   "metadata": {},
   "outputs": [],
   "source": [
    "mycol = mydb[\"customers\"]"
   ]
  },
  {
   "cell_type": "markdown",
   "metadata": {},
   "source": [
    "## 03 Insert record into collection "
   ]
  },
  {
   "cell_type": "code",
   "execution_count": 9,
   "metadata": {},
   "outputs": [],
   "source": [
    "mydict = { \"name\": \"karishma\", \"address\": \"Highway 37\" }\n",
    "\n",
    "x = mycol.insert_one(mydict)\n"
   ]
  },
  {
   "cell_type": "code",
   "execution_count": 10,
   "metadata": {},
   "outputs": [],
   "source": [
    "x = mycol.find()"
   ]
  },
  {
   "cell_type": "code",
   "execution_count": 11,
   "metadata": {},
   "outputs": [
    {
     "name": "stdout",
     "output_type": "stream",
     "text": [
      "{'_id': ObjectId('5e429332039ca5538630462d'), 'name': 'John', 'address': 'Highway 37'}\n",
      "{'_id': ObjectId('5e4293c9039ca5538630462f'), 'name': 'karishma', 'address': 'Highway 37'}\n",
      "{'_id': ObjectId('5e4a4719e73ccb74e76b09dd'), 'name': 'John', 'address': 'Highway 37'}\n",
      "{'_id': ObjectId('5e4a4782862bd4a31e6271b0'), 'name': 'John', 'address': 'Highway 37'}\n",
      "{'_id': ObjectId('5e4a4843df6c845e9ee98232'), 'name': 'John', 'address': 'Highway 37'}\n",
      "{'_id': ObjectId('5e4a48565cd620e622cb4ab0'), 'name': 'John', 'address': 'Highway 37'}\n",
      "{'_id': ObjectId('5e4a48665233f412e29eb9a5'), 'name': 'John', 'address': 'Highway 37'}\n",
      "{'_id': 1, 'name': 'John', 'address': 'Highway 37'}\n",
      "{'_id': 2, 'name': 'Peter', 'address': 'Lowstreet 27'}\n",
      "{'_id': 3, 'name': 'Amy', 'address': 'Apple st 652'}\n",
      "{'_id': 4, 'name': 'Hannah', 'address': 'Mountain 21'}\n",
      "{'_id': 5, 'name': 'Michael', 'address': 'Valley 345'}\n",
      "{'_id': 6, 'name': 'Sandy', 'address': 'Ocean blvd 2'}\n",
      "{'_id': 7, 'name': 'Betty', 'address': 'Green Grass 1'}\n",
      "{'_id': 8, 'name': 'Richard', 'address': 'Sky st 331'}\n",
      "{'_id': 9, 'name': 'Susan', 'address': 'One way 98'}\n",
      "{'_id': 10, 'name': 'Vicky', 'address': 'Yellow Garden 2'}\n",
      "{'_id': 11, 'name': 'Ben', 'address': 'Park Lane 38'}\n",
      "{'_id': 12, 'name': 'William', 'address': 'Central st 954'}\n",
      "{'_id': 13, 'name': 'Chuck', 'address': 'Main Road 989'}\n",
      "{'_id': 14, 'name': 'Viola', 'address': 'Sideway 1633'}\n",
      "{'_id': ObjectId('5e4a4866465c5dc14e93e9a4'), 'name': 'John', 'address': 'Highway 37'}\n",
      "{'_id': ObjectId('5e4a487ee0192dacf8c7580a'), 'name': 'John', 'address': 'Highway 37'}\n",
      "{'_id': ObjectId('5e4a487eaeb6949bca17d729'), 'name': 'John', 'address': 'Highway 37'}\n",
      "{'_id': ObjectId('5e4a502d54fb363a141d1561'), 'name': 'karishma', 'address': 'Highway 37'}\n",
      "{'_id': ObjectId('5e4a64d754fb363a141d1563'), 'name': 'karishma', 'address': 'Highway 37'}\n"
     ]
    }
   ],
   "source": [
    "for i in x: \n",
    "    print(i)"
   ]
  },
  {
   "cell_type": "code",
   "execution_count": null,
   "metadata": {},
   "outputs": [],
   "source": []
  }
 ],
 "metadata": {
  "kernelspec": {
   "display_name": "Python 3",
   "language": "python",
   "name": "python3"
  },
  "language_info": {
   "codemirror_mode": {
    "name": "ipython",
    "version": 3
   },
   "file_extension": ".py",
   "mimetype": "text/x-python",
   "name": "python",
   "nbconvert_exporter": "python",
   "pygments_lexer": "ipython3",
   "version": "3.6.8"
  }
 },
 "nbformat": 4,
 "nbformat_minor": 4
}
